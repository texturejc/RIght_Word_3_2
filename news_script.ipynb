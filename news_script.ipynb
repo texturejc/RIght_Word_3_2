{
 "cells": [
  {
   "cell_type": "markdown",
   "metadata": {},
   "source": [
    "# Analysing UK news headlines using word norms\n",
    "\n",
    "![image news](papers.png)"
   ]
  },
  {
   "cell_type": "code",
   "execution_count": null,
   "metadata": {
    "id": "f4oaUbYcBwiS"
   },
   "outputs": [],
   "source": [
    "import pandas as pd\n",
    "import seaborn as sns\n",
    "sns.set()\n",
    "#!pip install plotly\n",
    "import plotly.express as px\n",
    "import matplotlib.pyplot as plt"
   ]
  },
  {
   "cell_type": "markdown",
   "metadata": {},
   "source": [
    "## Read in our word norm data"
   ]
  },
  {
   "cell_type": "code",
   "execution_count": null,
   "metadata": {},
   "outputs": [],
   "source": [
    "vad = pd.read_csv('vad.csv', index_col = 0)  #VAD norms\n",
    "vad = vad[[\"V.Mean.Sum\", \"A.Mean.Sum\", \"D.Mean.Sum\"]]\n",
    "vad.columns = ['valence', 'arousal', 'dominance']\n",
    "sm = pd.read_excel('sensorimotor.xlsx', index_col = 0) #Sensorimotor norms\n",
    "sm = sm[['auditory', 'gustatory', 'haptic', 'interoceptive', 'olfactory',\n",
    "       'visual', 'foot_leg', 'hand_arm', 'head', 'mouth', 'torso']]"
   ]
  },
  {
   "cell_type": "markdown",
   "metadata": {},
   "source": [
    "### What do we want to know about our data? Some basic `pandas`\n",
    "\n",
    "* What are the column names?\n",
    "* What do the first few rows look like?\n",
    "* How do we select specific rows by their index?\n",
    "* How can we select a smaller dataframe from a larger one?\n",
    "* How can we summarise our data?\n",
    "* What's the largest or smallest value in a column or row?\n",
    "* How can we save our processed data?"
   ]
  },
  {
   "cell_type": "markdown",
   "metadata": {},
   "source": [
    "### Plot some of data to see what it looks like"
   ]
  },
  {
   "cell_type": "code",
   "execution_count": null,
   "metadata": {},
   "outputs": [],
   "source": [
    "vad_s = vad.sample(500)\n",
    "\n",
    "fig = px.scatter_3d(vad_s, x='valence', y='arousal', z='dominance', hover_data = [vad_s.index])\n",
    "fig.update_traces(marker=dict(size=5, color = 'red',\n",
    "                              line=dict(width=2,\n",
    "                                        color='DarkSlateGrey')),\n",
    "                  selector=dict(mode='markers'))\n",
    "\n",
    "\n",
    "\n",
    "fig.show()"
   ]
  },
  {
   "cell_type": "markdown",
   "metadata": {},
   "source": [
    "### Can we write a function that selects word norm data for words in a list?"
   ]
  },
  {
   "cell_type": "code",
   "execution_count": null,
   "metadata": {},
   "outputs": [],
   "source": [
    "def vad_data(word_list):\n",
    "    word_list = [i.lower() for i in word_list]\n",
    "    words = []\n",
    "    norms = []\n",
    "    \n",
    "    for i in word_list:\n",
    "        if i in vad.index:\n",
    "            norms.append(vad.loc[i])\n",
    "            words.append(i)\n",
    "        else:\n",
    "            pass\n",
    "    norms_vad = pd.DataFrame(norms, index = words)\n",
    "    return norms_vad\n",
    "\n",
    "def sm_data(word_list):\n",
    "    word_list = [i.lower() for i in word_list]\n",
    "    words = []\n",
    "    norms = []\n",
    "    \n",
    "    for i in word_list:\n",
    "        if i in sm.index:\n",
    "            norms.append(sm.loc[i])\n",
    "            words.append(i)\n",
    "        else:\n",
    "            pass\n",
    "    norms_sm = pd.DataFrame(norms, index = words)\n",
    "    return norms_sm\n"
   ]
  },
  {
   "cell_type": "code",
   "execution_count": null,
   "metadata": {},
   "outputs": [],
   "source": [
    "words = [\n",
    "    'river', 'bed', 'scared', 'table', 'valley', 'walk', 'ride', 'ocean', 'reef', 'sad',\n",
    "    'run', 'couch', 'climb', 'chair', 'peach', 'hill', 'crawl', 'jump', 'banana', 'mountain',\n",
    "    'pillow', 'orange', 'blanket', 'sofa', 'cherry', 'swim', 'lake', 'excited', 'shelf', 'forest',\n",
    "    'desert', 'island', 'grape', 'bored', 'brave', 'dance', 'happy', 'mango', 'apple', 'joyful',\n",
    "    'lamp', 'angry', 'fly', 'pear', 'kiwi', 'tired', 'calm', 'plum', 'drive', 'desk'\n",
    "]\n"
   ]
  },
  {
   "cell_type": "code",
   "execution_count": null,
   "metadata": {},
   "outputs": [],
   "source": [
    "vocab = vad_data(words)\n",
    "\n",
    "fig = px.scatter_3d(vocab, x='valence', y='arousal', z='dominance', hover_data = [vocab.index])\n",
    "fig.update_traces(marker=dict(size=5, color = 'pink',\n",
    "                              line=dict(width=2,\n",
    "                                        color='DarkSlateGrey')),\n",
    "                  selector=dict(mode='markers'))\n",
    "\n",
    "\n",
    "\n",
    "fig.show()"
   ]
  },
  {
   "cell_type": "markdown",
   "metadata": {},
   "source": [
    "### Can we compare VAD in other languages with VAD in English?"
   ]
  },
  {
   "cell_type": "code",
   "execution_count": null,
   "metadata": {},
   "outputs": [],
   "source": [
    "from IPython.display import IFrame\n",
    "\n",
    "IFrame(src=\"https://texturejc.github.io/VAD_VAG_plots/VAD_plot.html\", width=1000, height=600)\n"
   ]
  },
  {
   "cell_type": "markdown",
   "metadata": {},
   "source": [
    "## Read in our news data"
   ]
  },
  {
   "cell_type": "code",
   "execution_count": null,
   "metadata": {},
   "outputs": [],
   "source": []
  },
  {
   "cell_type": "code",
   "execution_count": null,
   "metadata": {
    "id": "YKMcNu6hCC8G"
   },
   "outputs": [],
   "source": [
    "headlines = pd.read_pickle(\"small_news_data.pkl\")\n",
    "days = pd.read_pickle(\"processed_news_grouped_by_day.pkl\")\n",
    "days[\"date\"] = pd.to_datetime(days[\"just_date\"], errors='coerce')"
   ]
  },
  {
   "cell_type": "markdown",
   "metadata": {},
   "source": [
    "## What would we predict about the VAD profile of headlines? Let's take a look"
   ]
  },
  {
   "cell_type": "code",
   "execution_count": null,
   "metadata": {
    "colab": {
     "base_uri": "https://localhost:8080/",
     "height": 597
    },
    "id": "pkL4jK-0DN_N",
    "outputId": "27a6e13a-54a4-4163-f904-f54a2c3e2b87"
   },
   "outputs": [],
   "source": [
    "vocab = headlines.sample(500)\n",
    "\n",
    "fig = px.scatter_3d(vocab, x='valence', y='arousal', z='dominance', hover_data = [vocab['headline']], color = vocab['section'])\n",
    "fig.update_traces(marker=dict(size=5,\n",
    "                              line=dict(width=2,\n",
    "                                        color='DarkSlateGrey')),\n",
    "                  selector=dict(mode='markers'))\n",
    "\n",
    "\n",
    "\n",
    "fig.show()"
   ]
  },
  {
   "cell_type": "markdown",
   "metadata": {
    "colab": {
     "base_uri": "https://localhost:8080/",
     "height": 597
    },
    "id": "qS1kSkOxDPvW",
    "outputId": "e536968f-f024-4aab-f9b1-392a19544a01"
   },
   "source": [
    "### How let's look at how VAD changes over time"
   ]
  },
  {
   "cell_type": "markdown",
   "metadata": {},
   "source": [
    "#### Days"
   ]
  },
  {
   "cell_type": "code",
   "execution_count": null,
   "metadata": {
    "scrolled": true
   },
   "outputs": [],
   "source": [
    "fig = px.line(days, x=\"date\", y=\"valence\", color='source')\n",
    "fig.show()"
   ]
  },
  {
   "cell_type": "markdown",
   "metadata": {},
   "source": [
    "#### Months and years"
   ]
  },
  {
   "cell_type": "code",
   "execution_count": null,
   "metadata": {},
   "outputs": [],
   "source": [
    "variable = 'arousal'\n",
    "\n",
    "days[\"month\"] = days[\"date\"].dt.month\n",
    "days_m = days.groupby(['source', 'month'], as_index = False)[variable].mean()\n",
    "\n",
    "days[\"year\"] = days[\"date\"].dt.year\n",
    "days_y = days.groupby(['source', 'year'], as_index = False)[variable].mean()\n",
    "\n",
    "fig = px.line(days_m, x=\"month\", y=variable, color='source')\n",
    "fig.show()"
   ]
  },
  {
   "cell_type": "markdown",
   "metadata": {},
   "source": [
    "### Can we be selective about the topics we want to look at?"
   ]
  },
  {
   "cell_type": "code",
   "execution_count": null,
   "metadata": {
    "id": "90kg8rO0DUs8"
   },
   "outputs": [],
   "source": [
    "keyword = 'rugby'\n",
    "keyword_df = headlines[headlines['headline'].str.contains(keyword, na=False)]\n"
   ]
  },
  {
   "cell_type": "code",
   "execution_count": null,
   "metadata": {
    "colab": {
     "base_uri": "https://localhost:8080/",
     "height": 597
    },
    "id": "uXVRn0v3DhvA",
    "outputId": "0bacb705-b3a1-4de3-8481-e0ed1160e3eb"
   },
   "outputs": [],
   "source": [
    "keyword_df"
   ]
  },
  {
   "cell_type": "code",
   "execution_count": null,
   "metadata": {
    "id": "IMpcAcR2Dig7"
   },
   "outputs": [],
   "source": []
  }
 ],
 "metadata": {
  "colab": {
   "provenance": []
  },
  "kernelspec": {
   "display_name": "Python 3 (ipykernel)",
   "language": "python",
   "name": "python3"
  },
  "language_info": {
   "codemirror_mode": {
    "name": "ipython",
    "version": 3
   },
   "file_extension": ".py",
   "mimetype": "text/x-python",
   "name": "python",
   "nbconvert_exporter": "python",
   "pygments_lexer": "ipython3",
   "version": "3.9.18"
  }
 },
 "nbformat": 4,
 "nbformat_minor": 4
}
